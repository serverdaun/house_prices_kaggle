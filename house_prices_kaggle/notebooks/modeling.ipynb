{
 "cells": [
  {
   "cell_type": "code",
   "id": "initial_id",
   "metadata": {
    "collapsed": true
   },
   "source": [
    "import pandas as pd\n",
    "import numpy as np\n",
    "from sklearn.model_selection import train_test_split, cross_val_score, GridSearchCV\n",
    "from sklearn.ensemble import GradientBoostingRegressor\n",
    "from sklearn.linear_model import Ridge, Lasso\n",
    "from sklearn.metrics import mean_squared_error"
   ],
   "outputs": [],
   "execution_count": null
  },
  {
   "metadata": {},
   "cell_type": "code",
   "source": [
    "df = pd.read_csv('../../data/clean_data/train_df_ready.csv')\n",
    "df.head()"
   ],
   "id": "6bdef6be6977cc80",
   "outputs": [],
   "execution_count": null
  },
  {
   "metadata": {},
   "cell_type": "code",
   "source": [
    "def find_best_model_cv(x_train, y_train, models):\n",
    "    best_model_name = None\n",
    "    best_model = None\n",
    "    best_score = float('inf')    \n",
    "    \n",
    "    for model_name, model in models.items():\n",
    "        scores = cross_val_score(model, x_train, y_train, cv=5, scoring='neg_mean_squared_error')\n",
    "        rmse_scores = np.sqrt(-scores)\n",
    "        avg_rmse = rmse_scores.mean()\n",
    "        \n",
    "        print(f\"{model_name}: RMSE = {avg_rmse:.4f}\")\n",
    "        \n",
    "        if avg_rmse < best_score:\n",
    "            best_score = avg_rmse\n",
    "            best_model_name = model_name\n",
    "            best_model = model\n",
    "    \n",
    "    print(f'Best model is: {best_model_name}')\n",
    "    \n",
    "    return best_model"
   ],
   "id": "f1cf5d90952d45d4",
   "outputs": [],
   "execution_count": null
  },
  {
   "metadata": {},
   "cell_type": "code",
   "source": [
    "models = {\n",
    "    'Ridge Regression': Ridge(max_iter=10000),\n",
    "    'Lasso Regression': Lasso(max_iter=10000),\n",
    "    'GradientBoosting Regression': GradientBoostingRegressor()\n",
    "}"
   ],
   "id": "a51e02d905f9f13d",
   "outputs": [],
   "execution_count": null
  },
  {
   "metadata": {},
   "cell_type": "code",
   "source": [
    "x = df.drop(columns=['SalePrice'])\n",
    "y = df['SalePrice']\n",
    "\n",
    "x_train, x_test, y_train, y_test = train_test_split(x, y, test_size=0.2, random_state=0)"
   ],
   "id": "4d41bef7ead27943",
   "outputs": [],
   "execution_count": null
  },
  {
   "metadata": {},
   "cell_type": "code",
   "source": "best_model = find_best_model_cv(x_train, y_train, models)",
   "id": "2f7c9ac100728443",
   "outputs": [],
   "execution_count": null
  },
  {
   "metadata": {},
   "cell_type": "code",
   "source": [
    "best_model.fit(x_train, y_train)\n",
    "y_pred = best_model.predict(x_test)\n",
    "test_mse = mean_squared_error(y_test, y_pred)\n",
    "test_rmse = np.sqrt(test_mse)\n",
    "print(f'Test RMSE: {test_rmse:.4f}')"
   ],
   "id": "a5c57e3d4a3fc496",
   "outputs": [],
   "execution_count": null
  },
  {
   "metadata": {},
   "cell_type": "code",
   "source": [
    "params = {\n",
    "    'n_estimators': [100, 200, 300],\n",
    "    'learning_rate': [0.01, 0.05, 0.1],\n",
    "    'max_depth': [3, 5, 7],\n",
    "    'subsample': [0.8, 1.0]\n",
    "}\n",
    "\n",
    "grid_search = GridSearchCV(GradientBoostingRegressor(), param_grid=params, cv=5, scoring='neg_mean_squared_error')\n",
    "grid_search.fit(x_train, y_train)\n",
    "\n",
    "best_params = grid_search.best_params_\n",
    "best_score = np.sqrt(-grid_search.best_score_)\n",
    "\n",
    "print(best_params, best_score)"
   ],
   "id": "51991a6ea1cc397b",
   "outputs": [],
   "execution_count": null
  },
  {
   "metadata": {},
   "cell_type": "code",
   "source": [
    "model = GradientBoostingRegressor(learning_rate=best_params['learning_rate'],\n",
    "                                  max_depth=best_params['max_depth'],\n",
    "                                  n_estimators=best_params['n_estimators'],\n",
    "                                  subsample=best_params['subsample'])\n",
    "model.fit(x_train, y_train)\n",
    "y_pred = model.predict(x_test)\n",
    "test_mse = mean_squared_error(y_test, y_pred)\n",
    "test_rmse = np.sqrt(test_mse)\n",
    "print(f'Test RMSE: {test_rmse:.4f}')"
   ],
   "id": "8231dc1421acb946",
   "outputs": [],
   "execution_count": null
  },
  {
   "metadata": {},
   "cell_type": "code",
   "source": "",
   "id": "aa057d0456b51dd2",
   "outputs": [],
   "execution_count": null
  },
  {
   "metadata": {},
   "cell_type": "code",
   "source": "",
   "id": "93db1ff6570bee46",
   "outputs": [],
   "execution_count": null
  }
 ],
 "metadata": {
  "kernelspec": {
   "display_name": "Python 3",
   "language": "python",
   "name": "python3"
  },
  "language_info": {
   "codemirror_mode": {
    "name": "ipython",
    "version": 2
   },
   "file_extension": ".py",
   "mimetype": "text/x-python",
   "name": "python",
   "nbconvert_exporter": "python",
   "pygments_lexer": "ipython2",
   "version": "2.7.6"
  }
 },
 "nbformat": 4,
 "nbformat_minor": 5
}
