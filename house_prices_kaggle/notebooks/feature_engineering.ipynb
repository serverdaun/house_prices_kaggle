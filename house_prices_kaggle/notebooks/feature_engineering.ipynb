{
 "cells": [
  {
   "cell_type": "code",
   "id": "initial_id",
   "metadata": {
    "collapsed": true,
    "ExecuteTime": {
     "end_time": "2024-09-26T20:58:23.333544Z",
     "start_time": "2024-09-26T20:58:23.316854Z"
    }
   },
   "source": [
    "%load_ext autoreload\n",
    "%autoreload 2"
   ],
   "outputs": [],
   "execution_count": 1
  },
  {
   "metadata": {
    "ExecuteTime": {
     "end_time": "2024-09-26T20:58:24.009161Z",
     "start_time": "2024-09-26T20:58:23.339126Z"
    }
   },
   "cell_type": "code",
   "source": [
    "import pandas as pd\n",
    "from sklearn.preprocessing import OneHotEncoder"
   ],
   "id": "3915d4b550adee32",
   "outputs": [],
   "execution_count": 2
  },
  {
   "metadata": {
    "ExecuteTime": {
     "end_time": "2024-09-26T20:58:24.364115Z",
     "start_time": "2024-09-26T20:58:24.105355Z"
    }
   },
   "cell_type": "code",
   "source": [
    "df = pd.read_csv('../../data/clean_data/train_df_preprocessed.csv')\n",
    "df.head()"
   ],
   "id": "8630979f753d8966",
   "outputs": [
    {
     "data": {
      "text/plain": [
       "   Id  MSSubClass MSZoning  LotFrontage  LotArea Street     Alley LotShape  \\\n",
       "0   1          60       RL         65.0     8450   Pave  No Alley      Reg   \n",
       "1   2          20       RL         80.0     9600   Pave  No Alley      Reg   \n",
       "2   3          60       RL         68.0    11250   Pave  No Alley      IR1   \n",
       "3   4          70       RL         60.0     9550   Pave  No Alley      IR1   \n",
       "4   5          60       RL         84.0    14260   Pave  No Alley      IR1   \n",
       "\n",
       "  LandContour Utilities  ... PoolArea   PoolQC     Fence MiscFeature MiscVal  \\\n",
       "0         Lvl    AllPub  ...        0  No Pool  No Fence  No feature       0   \n",
       "1         Lvl    AllPub  ...        0  No Pool  No Fence  No feature       0   \n",
       "2         Lvl    AllPub  ...        0  No Pool  No Fence  No feature       0   \n",
       "3         Lvl    AllPub  ...        0  No Pool  No Fence  No feature       0   \n",
       "4         Lvl    AllPub  ...        0  No Pool  No Fence  No feature       0   \n",
       "\n",
       "  MoSold YrSold  SaleType  SaleCondition  SalePrice  \n",
       "0      2   2008        WD         Normal     208500  \n",
       "1      5   2007        WD         Normal     181500  \n",
       "2      9   2008        WD         Normal     223500  \n",
       "3      2   2006        WD        Abnorml     140000  \n",
       "4     12   2008        WD         Normal     250000  \n",
       "\n",
       "[5 rows x 81 columns]"
      ],
      "text/html": [
       "<div>\n",
       "<style scoped>\n",
       "    .dataframe tbody tr th:only-of-type {\n",
       "        vertical-align: middle;\n",
       "    }\n",
       "\n",
       "    .dataframe tbody tr th {\n",
       "        vertical-align: top;\n",
       "    }\n",
       "\n",
       "    .dataframe thead th {\n",
       "        text-align: right;\n",
       "    }\n",
       "</style>\n",
       "<table border=\"1\" class=\"dataframe\">\n",
       "  <thead>\n",
       "    <tr style=\"text-align: right;\">\n",
       "      <th></th>\n",
       "      <th>Id</th>\n",
       "      <th>MSSubClass</th>\n",
       "      <th>MSZoning</th>\n",
       "      <th>LotFrontage</th>\n",
       "      <th>LotArea</th>\n",
       "      <th>Street</th>\n",
       "      <th>Alley</th>\n",
       "      <th>LotShape</th>\n",
       "      <th>LandContour</th>\n",
       "      <th>Utilities</th>\n",
       "      <th>...</th>\n",
       "      <th>PoolArea</th>\n",
       "      <th>PoolQC</th>\n",
       "      <th>Fence</th>\n",
       "      <th>MiscFeature</th>\n",
       "      <th>MiscVal</th>\n",
       "      <th>MoSold</th>\n",
       "      <th>YrSold</th>\n",
       "      <th>SaleType</th>\n",
       "      <th>SaleCondition</th>\n",
       "      <th>SalePrice</th>\n",
       "    </tr>\n",
       "  </thead>\n",
       "  <tbody>\n",
       "    <tr>\n",
       "      <th>0</th>\n",
       "      <td>1</td>\n",
       "      <td>60</td>\n",
       "      <td>RL</td>\n",
       "      <td>65.0</td>\n",
       "      <td>8450</td>\n",
       "      <td>Pave</td>\n",
       "      <td>No Alley</td>\n",
       "      <td>Reg</td>\n",
       "      <td>Lvl</td>\n",
       "      <td>AllPub</td>\n",
       "      <td>...</td>\n",
       "      <td>0</td>\n",
       "      <td>No Pool</td>\n",
       "      <td>No Fence</td>\n",
       "      <td>No feature</td>\n",
       "      <td>0</td>\n",
       "      <td>2</td>\n",
       "      <td>2008</td>\n",
       "      <td>WD</td>\n",
       "      <td>Normal</td>\n",
       "      <td>208500</td>\n",
       "    </tr>\n",
       "    <tr>\n",
       "      <th>1</th>\n",
       "      <td>2</td>\n",
       "      <td>20</td>\n",
       "      <td>RL</td>\n",
       "      <td>80.0</td>\n",
       "      <td>9600</td>\n",
       "      <td>Pave</td>\n",
       "      <td>No Alley</td>\n",
       "      <td>Reg</td>\n",
       "      <td>Lvl</td>\n",
       "      <td>AllPub</td>\n",
       "      <td>...</td>\n",
       "      <td>0</td>\n",
       "      <td>No Pool</td>\n",
       "      <td>No Fence</td>\n",
       "      <td>No feature</td>\n",
       "      <td>0</td>\n",
       "      <td>5</td>\n",
       "      <td>2007</td>\n",
       "      <td>WD</td>\n",
       "      <td>Normal</td>\n",
       "      <td>181500</td>\n",
       "    </tr>\n",
       "    <tr>\n",
       "      <th>2</th>\n",
       "      <td>3</td>\n",
       "      <td>60</td>\n",
       "      <td>RL</td>\n",
       "      <td>68.0</td>\n",
       "      <td>11250</td>\n",
       "      <td>Pave</td>\n",
       "      <td>No Alley</td>\n",
       "      <td>IR1</td>\n",
       "      <td>Lvl</td>\n",
       "      <td>AllPub</td>\n",
       "      <td>...</td>\n",
       "      <td>0</td>\n",
       "      <td>No Pool</td>\n",
       "      <td>No Fence</td>\n",
       "      <td>No feature</td>\n",
       "      <td>0</td>\n",
       "      <td>9</td>\n",
       "      <td>2008</td>\n",
       "      <td>WD</td>\n",
       "      <td>Normal</td>\n",
       "      <td>223500</td>\n",
       "    </tr>\n",
       "    <tr>\n",
       "      <th>3</th>\n",
       "      <td>4</td>\n",
       "      <td>70</td>\n",
       "      <td>RL</td>\n",
       "      <td>60.0</td>\n",
       "      <td>9550</td>\n",
       "      <td>Pave</td>\n",
       "      <td>No Alley</td>\n",
       "      <td>IR1</td>\n",
       "      <td>Lvl</td>\n",
       "      <td>AllPub</td>\n",
       "      <td>...</td>\n",
       "      <td>0</td>\n",
       "      <td>No Pool</td>\n",
       "      <td>No Fence</td>\n",
       "      <td>No feature</td>\n",
       "      <td>0</td>\n",
       "      <td>2</td>\n",
       "      <td>2006</td>\n",
       "      <td>WD</td>\n",
       "      <td>Abnorml</td>\n",
       "      <td>140000</td>\n",
       "    </tr>\n",
       "    <tr>\n",
       "      <th>4</th>\n",
       "      <td>5</td>\n",
       "      <td>60</td>\n",
       "      <td>RL</td>\n",
       "      <td>84.0</td>\n",
       "      <td>14260</td>\n",
       "      <td>Pave</td>\n",
       "      <td>No Alley</td>\n",
       "      <td>IR1</td>\n",
       "      <td>Lvl</td>\n",
       "      <td>AllPub</td>\n",
       "      <td>...</td>\n",
       "      <td>0</td>\n",
       "      <td>No Pool</td>\n",
       "      <td>No Fence</td>\n",
       "      <td>No feature</td>\n",
       "      <td>0</td>\n",
       "      <td>12</td>\n",
       "      <td>2008</td>\n",
       "      <td>WD</td>\n",
       "      <td>Normal</td>\n",
       "      <td>250000</td>\n",
       "    </tr>\n",
       "  </tbody>\n",
       "</table>\n",
       "<p>5 rows × 81 columns</p>\n",
       "</div>"
      ]
     },
     "execution_count": 3,
     "metadata": {},
     "output_type": "execute_result"
    }
   ],
   "execution_count": 3
  },
  {
   "metadata": {},
   "cell_type": "markdown",
   "source": "*New Features Creation*",
   "id": "9b9864c9443a8972"
  },
  {
   "metadata": {},
   "cell_type": "markdown",
   "source": "* Age/Date Features",
   "id": "4443c2ee92d6be"
  },
  {
   "metadata": {
    "ExecuteTime": {
     "end_time": "2024-09-26T20:58:24.528579Z",
     "start_time": "2024-09-26T20:58:24.510168Z"
    }
   },
   "cell_type": "code",
   "source": [
    "df['HouseAge'] = df['YrSold'] - df['YearBuilt']\n",
    "df['YearsSinceRemodel'] = df['YrSold'] - df['YearRemodAdd']\n",
    "df['WasRemodeled'] = df.apply(lambda row: 1 if row['YearRemodAdd'] > row['YearBuilt'] else 0, axis=1)\n",
    "df['GarageAge'] = df['YrSold'] - df['GarageYrBlt']\n",
    "df['HouseAgeCategory'] = pd.cut(df['HouseAge'], bins=[0, 10, 20, 50, 100, 200], labels=['New', 'Recent', 'Modern', 'Old', 'Very Old'])\n",
    "df['SeasonSold'] = df['MoSold'].apply(lambda x: 'Spring' if x in [3, 4, 5] else 'Summer' if x in [6, 7, 8] else 'Fall' if x in [9, 10, 11] else 'Winter')"
   ],
   "id": "a74c3c2c4a8ea02e",
   "outputs": [],
   "execution_count": 4
  },
  {
   "metadata": {},
   "cell_type": "markdown",
   "source": "* Quality and Condition Features",
   "id": "95817b5d137ccca6"
  },
  {
   "metadata": {
    "ExecuteTime": {
     "end_time": "2024-09-26T20:58:24.562629Z",
     "start_time": "2024-09-26T20:58:24.553411Z"
    }
   },
   "cell_type": "code",
   "source": [
    "df['QualCondMult'] = df['OverallQual'] * df['OverallCond']\n",
    "df['QualCondRatio'] = df['OverallQual'] / df['OverallCond']"
   ],
   "id": "a015cf177004f41c",
   "outputs": [],
   "execution_count": 5
  },
  {
   "metadata": {
    "ExecuteTime": {
     "end_time": "2024-09-26T20:58:24.588456Z",
     "start_time": "2024-09-26T20:58:24.575391Z"
    }
   },
   "cell_type": "code",
   "source": [
    "# Create new numerical features for quality and condition\n",
    "qc_mapping = {\n",
    "    'Ex': 5,\n",
    "    'Gd': 4,\n",
    "    'TA': 3,\n",
    "    'Fa': 2,\n",
    "    'Po': 1\n",
    "}\n",
    "\n",
    "qc_features = ['ExterQual', 'ExterCond', 'BsmtQual', 'BsmtCond', 'HeatingQC', 'KitchenQual', 'GarageQual', 'GarageCond', 'PoolQC', 'FireplaceQu']\n",
    "for feature in qc_features:\n",
    "    df[feature] = df[feature].map(qc_mapping).fillna(0)"
   ],
   "id": "97632bcc10d0c4c9",
   "outputs": [],
   "execution_count": 6
  },
  {
   "metadata": {
    "ExecuteTime": {
     "end_time": "2024-09-26T20:58:24.711376Z",
     "start_time": "2024-09-26T20:58:24.701058Z"
    }
   },
   "cell_type": "code",
   "source": [
    "df['OverallQualScore'] = (\n",
    "    df['ExterQual'] + \n",
    "    df['ExterCond'] +\n",
    "    df['BsmtQual'] +\n",
    "    df['BsmtCond'] +\n",
    "    df['HeatingQC'] +\n",
    "    df['KitchenQual'] +\n",
    "    df['GarageQual'] +\n",
    "    df['GarageCond'] +\n",
    "    df['PoolQC'] +\n",
    "    df['FireplaceQu']\n",
    ")"
   ],
   "id": "1f7c4a634c9bb8d1",
   "outputs": [],
   "execution_count": 7
  },
  {
   "metadata": {},
   "cell_type": "markdown",
   "source": "* Has {...} Features",
   "id": "8f63f95f13c9f4f1"
  },
  {
   "metadata": {
    "ExecuteTime": {
     "end_time": "2024-09-26T20:58:24.798608Z",
     "start_time": "2024-09-26T20:58:24.785118Z"
    }
   },
   "cell_type": "code",
   "source": [
    "df['HasAlley'] = df['Alley'].apply(lambda x: 0 if x == 'No Alley' else 1)\n",
    "df['HasMasVnr'] = df['MasVnrType'].apply(lambda x: 0 if x == 'No masonry veneer' else 1)\n",
    "df['HasBsmt'] = df['BsmtQual'].apply(lambda x: 0 if x == 0 else 1)\n",
    "df['HasFireplace'] = df['FireplaceQu'].apply(lambda x: 0 if x == 0 else 1)\n",
    "df['HasGarage'] = df['GarageQual'].apply(lambda x: 0 if x == 0 else 1)\n",
    "df['HasPool'] = df['PoolQC'].apply(lambda x: 0 if x == 0 else 1)\n",
    "df['HasFence'] =df['Fence'].apply(lambda x: 0 if x == 'No Fence' else 1)\n",
    "df['HasPorch'] = df[['OpenPorchSF', 'EnclosedPorch', '3SsnPorch', 'ScreenPorch']].sum(axis=1).apply(lambda x: 1 if x > 0 else 0)"
   ],
   "id": "d54075359e32f1b4",
   "outputs": [],
   "execution_count": 8
  },
  {
   "metadata": {},
   "cell_type": "markdown",
   "source": "* Footage/Area Features",
   "id": "f73b548697501c38"
  },
  {
   "metadata": {
    "ExecuteTime": {
     "end_time": "2024-09-26T20:58:24.819571Z",
     "start_time": "2024-09-26T20:58:24.809412Z"
    }
   },
   "cell_type": "code",
   "source": [
    "df['TotalSF'] = df['TotalBsmtSF'] + df['1stFlrSF'] + df['2ndFlrSF']\n",
    "df['TotalPorchSF'] = df['OpenPorchSF'] + df['EnclosedPorch'] + df['3SsnPorch'] + df['ScreenPorch']\n",
    "df['TotalBsmtFinSF'] = df['BsmtFinSF1'] + df['BsmtFinSF2']\n",
    "df['HouseToLotRatio'] = df['GrLivArea'] / df['LotArea']"
   ],
   "id": "2eb06dafd52c25f2",
   "outputs": [],
   "execution_count": 9
  },
  {
   "metadata": {},
   "cell_type": "markdown",
   "source": "* Neighbourhood Related Features",
   "id": "48cf77118604b0eb"
  },
  {
   "metadata": {
    "ExecuteTime": {
     "end_time": "2024-09-26T20:58:24.840508Z",
     "start_time": "2024-09-26T20:58:24.830292Z"
    }
   },
   "cell_type": "code",
   "source": [
    "rich_neighborhoods = df.groupby('Neighborhood')['SalePrice'].mean().nlargest(10).index\n",
    "df['IsRichNeighborhood'] = df['Neighborhood'].apply(lambda x: 1 if x in rich_neighborhoods else 0)"
   ],
   "id": "23169bb6e85a723e",
   "outputs": [],
   "execution_count": 10
  },
  {
   "metadata": {},
   "cell_type": "markdown",
   "source": "*Feature transformation*",
   "id": "43094327c5884bc8"
  },
  {
   "metadata": {
    "ExecuteTime": {
     "end_time": "2024-09-26T20:58:24.864082Z",
     "start_time": "2024-09-26T20:58:24.850164Z"
    }
   },
   "cell_type": "code",
   "source": "df.head()",
   "id": "aff614e600a964d0",
   "outputs": [
    {
     "data": {
      "text/plain": [
       "   Id  MSSubClass MSZoning  LotFrontage  LotArea Street     Alley LotShape  \\\n",
       "0   1          60       RL         65.0     8450   Pave  No Alley      Reg   \n",
       "1   2          20       RL         80.0     9600   Pave  No Alley      Reg   \n",
       "2   3          60       RL         68.0    11250   Pave  No Alley      IR1   \n",
       "3   4          70       RL         60.0     9550   Pave  No Alley      IR1   \n",
       "4   5          60       RL         84.0    14260   Pave  No Alley      IR1   \n",
       "\n",
       "  LandContour Utilities  ... HasFireplace HasGarage HasPool HasFence HasPorch  \\\n",
       "0         Lvl    AllPub  ...            0         1       0        0        1   \n",
       "1         Lvl    AllPub  ...            1         1       0        0        0   \n",
       "2         Lvl    AllPub  ...            1         1       0        0        1   \n",
       "3         Lvl    AllPub  ...            1         1       0        0        1   \n",
       "4         Lvl    AllPub  ...            1         1       0        0        1   \n",
       "\n",
       "  TotalSF TotalPorchSF  TotalBsmtFinSF  HouseToLotRatio  IsRichNeighborhood  \n",
       "0    2566           61             706         0.202367                   1  \n",
       "1    2524            0             978         0.131458                   1  \n",
       "2    2706           42             486         0.158756                   1  \n",
       "3    2473          307             216         0.179791                   1  \n",
       "4    3343           84             655         0.154137                   1  \n",
       "\n",
       "[5 rows x 103 columns]"
      ],
      "text/html": [
       "<div>\n",
       "<style scoped>\n",
       "    .dataframe tbody tr th:only-of-type {\n",
       "        vertical-align: middle;\n",
       "    }\n",
       "\n",
       "    .dataframe tbody tr th {\n",
       "        vertical-align: top;\n",
       "    }\n",
       "\n",
       "    .dataframe thead th {\n",
       "        text-align: right;\n",
       "    }\n",
       "</style>\n",
       "<table border=\"1\" class=\"dataframe\">\n",
       "  <thead>\n",
       "    <tr style=\"text-align: right;\">\n",
       "      <th></th>\n",
       "      <th>Id</th>\n",
       "      <th>MSSubClass</th>\n",
       "      <th>MSZoning</th>\n",
       "      <th>LotFrontage</th>\n",
       "      <th>LotArea</th>\n",
       "      <th>Street</th>\n",
       "      <th>Alley</th>\n",
       "      <th>LotShape</th>\n",
       "      <th>LandContour</th>\n",
       "      <th>Utilities</th>\n",
       "      <th>...</th>\n",
       "      <th>HasFireplace</th>\n",
       "      <th>HasGarage</th>\n",
       "      <th>HasPool</th>\n",
       "      <th>HasFence</th>\n",
       "      <th>HasPorch</th>\n",
       "      <th>TotalSF</th>\n",
       "      <th>TotalPorchSF</th>\n",
       "      <th>TotalBsmtFinSF</th>\n",
       "      <th>HouseToLotRatio</th>\n",
       "      <th>IsRichNeighborhood</th>\n",
       "    </tr>\n",
       "  </thead>\n",
       "  <tbody>\n",
       "    <tr>\n",
       "      <th>0</th>\n",
       "      <td>1</td>\n",
       "      <td>60</td>\n",
       "      <td>RL</td>\n",
       "      <td>65.0</td>\n",
       "      <td>8450</td>\n",
       "      <td>Pave</td>\n",
       "      <td>No Alley</td>\n",
       "      <td>Reg</td>\n",
       "      <td>Lvl</td>\n",
       "      <td>AllPub</td>\n",
       "      <td>...</td>\n",
       "      <td>0</td>\n",
       "      <td>1</td>\n",
       "      <td>0</td>\n",
       "      <td>0</td>\n",
       "      <td>1</td>\n",
       "      <td>2566</td>\n",
       "      <td>61</td>\n",
       "      <td>706</td>\n",
       "      <td>0.202367</td>\n",
       "      <td>1</td>\n",
       "    </tr>\n",
       "    <tr>\n",
       "      <th>1</th>\n",
       "      <td>2</td>\n",
       "      <td>20</td>\n",
       "      <td>RL</td>\n",
       "      <td>80.0</td>\n",
       "      <td>9600</td>\n",
       "      <td>Pave</td>\n",
       "      <td>No Alley</td>\n",
       "      <td>Reg</td>\n",
       "      <td>Lvl</td>\n",
       "      <td>AllPub</td>\n",
       "      <td>...</td>\n",
       "      <td>1</td>\n",
       "      <td>1</td>\n",
       "      <td>0</td>\n",
       "      <td>0</td>\n",
       "      <td>0</td>\n",
       "      <td>2524</td>\n",
       "      <td>0</td>\n",
       "      <td>978</td>\n",
       "      <td>0.131458</td>\n",
       "      <td>1</td>\n",
       "    </tr>\n",
       "    <tr>\n",
       "      <th>2</th>\n",
       "      <td>3</td>\n",
       "      <td>60</td>\n",
       "      <td>RL</td>\n",
       "      <td>68.0</td>\n",
       "      <td>11250</td>\n",
       "      <td>Pave</td>\n",
       "      <td>No Alley</td>\n",
       "      <td>IR1</td>\n",
       "      <td>Lvl</td>\n",
       "      <td>AllPub</td>\n",
       "      <td>...</td>\n",
       "      <td>1</td>\n",
       "      <td>1</td>\n",
       "      <td>0</td>\n",
       "      <td>0</td>\n",
       "      <td>1</td>\n",
       "      <td>2706</td>\n",
       "      <td>42</td>\n",
       "      <td>486</td>\n",
       "      <td>0.158756</td>\n",
       "      <td>1</td>\n",
       "    </tr>\n",
       "    <tr>\n",
       "      <th>3</th>\n",
       "      <td>4</td>\n",
       "      <td>70</td>\n",
       "      <td>RL</td>\n",
       "      <td>60.0</td>\n",
       "      <td>9550</td>\n",
       "      <td>Pave</td>\n",
       "      <td>No Alley</td>\n",
       "      <td>IR1</td>\n",
       "      <td>Lvl</td>\n",
       "      <td>AllPub</td>\n",
       "      <td>...</td>\n",
       "      <td>1</td>\n",
       "      <td>1</td>\n",
       "      <td>0</td>\n",
       "      <td>0</td>\n",
       "      <td>1</td>\n",
       "      <td>2473</td>\n",
       "      <td>307</td>\n",
       "      <td>216</td>\n",
       "      <td>0.179791</td>\n",
       "      <td>1</td>\n",
       "    </tr>\n",
       "    <tr>\n",
       "      <th>4</th>\n",
       "      <td>5</td>\n",
       "      <td>60</td>\n",
       "      <td>RL</td>\n",
       "      <td>84.0</td>\n",
       "      <td>14260</td>\n",
       "      <td>Pave</td>\n",
       "      <td>No Alley</td>\n",
       "      <td>IR1</td>\n",
       "      <td>Lvl</td>\n",
       "      <td>AllPub</td>\n",
       "      <td>...</td>\n",
       "      <td>1</td>\n",
       "      <td>1</td>\n",
       "      <td>0</td>\n",
       "      <td>0</td>\n",
       "      <td>1</td>\n",
       "      <td>3343</td>\n",
       "      <td>84</td>\n",
       "      <td>655</td>\n",
       "      <td>0.154137</td>\n",
       "      <td>1</td>\n",
       "    </tr>\n",
       "  </tbody>\n",
       "</table>\n",
       "<p>5 rows × 103 columns</p>\n",
       "</div>"
      ]
     },
     "execution_count": 11,
     "metadata": {},
     "output_type": "execute_result"
    }
   ],
   "execution_count": 11
  },
  {
   "metadata": {
    "ExecuteTime": {
     "end_time": "2024-09-26T20:58:24.906723Z",
     "start_time": "2024-09-26T20:58:24.896244Z"
    }
   },
   "cell_type": "code",
   "source": "df.dtypes",
   "id": "f91a12f03a404ef8",
   "outputs": [
    {
     "data": {
      "text/plain": [
       "Id                      int64\n",
       "MSSubClass              int64\n",
       "MSZoning               object\n",
       "LotFrontage           float64\n",
       "LotArea                 int64\n",
       "                       ...   \n",
       "TotalSF                 int64\n",
       "TotalPorchSF            int64\n",
       "TotalBsmtFinSF          int64\n",
       "HouseToLotRatio       float64\n",
       "IsRichNeighborhood      int64\n",
       "Length: 103, dtype: object"
      ]
     },
     "execution_count": 12,
     "metadata": {},
     "output_type": "execute_result"
    }
   ],
   "execution_count": 12
  },
  {
   "metadata": {
    "ExecuteTime": {
     "end_time": "2024-09-26T20:58:24.961583Z",
     "start_time": "2024-09-26T20:58:24.951296Z"
    }
   },
   "cell_type": "code",
   "source": [
    "df['MSSubClass'] = df['MSSubClass'].astype(object)\n",
    "df = df.drop(columns=['Id'])"
   ],
   "id": "e64b7a9cc3fc9df",
   "outputs": [],
   "execution_count": 13
  },
  {
   "metadata": {
    "ExecuteTime": {
     "end_time": "2024-09-26T20:58:25.093863Z",
     "start_time": "2024-09-26T20:58:25.080744Z"
    }
   },
   "cell_type": "code",
   "source": [
    "categorical_features = df.select_dtypes(include=['object']).columns\n",
    "numerical_features = df.select_dtypes(exclude=['object']).columns"
   ],
   "id": "ee31032631f5fd39",
   "outputs": [],
   "execution_count": 14
  },
  {
   "metadata": {},
   "cell_type": "markdown",
   "source": "* Categorical Features",
   "id": "e60f924292989116"
  },
  {
   "metadata": {
    "ExecuteTime": {
     "end_time": "2024-09-26T20:58:25.304785Z",
     "start_time": "2024-09-26T20:58:25.294055Z"
    }
   },
   "cell_type": "code",
   "source": [
    "def categorical_features_ohe(df: pd.DataFrame, column: pd.DataFrame.columns) -> pd.DataFrame:\n",
    "    ohe = OneHotEncoder(sparse_output=False)\n",
    "    \n",
    "    ohe.fit(df[[column]])\n",
    "    ohe_columns = ohe.transform(df[[column]])\n",
    "    ohe_df = pd.DataFrame(ohe_columns, columns=ohe.get_feature_names_out([column]))\n",
    "    \n",
    "    df = pd.concat([df.reset_index(drop=True), ohe_df.reset_index(drop=True)], axis=1)\n",
    "    df = df.drop(columns=[column], axis=1)\n",
    "    return df"
   ],
   "id": "f06093fdb1257d00",
   "outputs": [],
   "execution_count": 15
  },
  {
   "metadata": {
    "ExecuteTime": {
     "end_time": "2024-09-26T20:58:25.415637Z",
     "start_time": "2024-09-26T20:58:25.317391Z"
    }
   },
   "cell_type": "code",
   "source": [
    "for feature in categorical_features:\n",
    "    df = categorical_features_ohe(df, feature)\n",
    "    \n",
    "df.head()"
   ],
   "id": "cc52ac4744d3fba1",
   "outputs": [
    {
     "data": {
      "text/plain": [
       "   LotFrontage  LotArea  OverallQual  OverallCond  YearBuilt  YearRemodAdd  \\\n",
       "0         65.0     8450            7            5       2003          2003   \n",
       "1         80.0     9600            6            8       1976          1976   \n",
       "2         68.0    11250            7            5       2001          2002   \n",
       "3         60.0     9550            7            5       1915          1970   \n",
       "4         84.0    14260            8            5       2000          2000   \n",
       "\n",
       "   MasVnrArea  ExterQual  ExterCond  BsmtQual  ...  SaleCondition_Abnorml  \\\n",
       "0       196.0          4          3       4.0  ...                    0.0   \n",
       "1         0.0          3          3       4.0  ...                    0.0   \n",
       "2       162.0          4          3       4.0  ...                    0.0   \n",
       "3         0.0          3          3       3.0  ...                    1.0   \n",
       "4       350.0          4          3       4.0  ...                    0.0   \n",
       "\n",
       "   SaleCondition_AdjLand  SaleCondition_Alloca  SaleCondition_Family  \\\n",
       "0                    0.0                   0.0                   0.0   \n",
       "1                    0.0                   0.0                   0.0   \n",
       "2                    0.0                   0.0                   0.0   \n",
       "3                    0.0                   0.0                   0.0   \n",
       "4                    0.0                   0.0                   0.0   \n",
       "\n",
       "   SaleCondition_Normal  SaleCondition_Partial  SeasonSold_Fall  \\\n",
       "0                   1.0                    0.0              0.0   \n",
       "1                   1.0                    0.0              0.0   \n",
       "2                   1.0                    0.0              1.0   \n",
       "3                   0.0                    0.0              0.0   \n",
       "4                   1.0                    0.0              0.0   \n",
       "\n",
       "   SeasonSold_Spring  SeasonSold_Summer  SeasonSold_Winter  \n",
       "0                0.0                0.0                1.0  \n",
       "1                1.0                0.0                0.0  \n",
       "2                0.0                0.0                0.0  \n",
       "3                0.0                0.0                1.0  \n",
       "4                0.0                0.0                1.0  \n",
       "\n",
       "[5 rows x 302 columns]"
      ],
      "text/html": [
       "<div>\n",
       "<style scoped>\n",
       "    .dataframe tbody tr th:only-of-type {\n",
       "        vertical-align: middle;\n",
       "    }\n",
       "\n",
       "    .dataframe tbody tr th {\n",
       "        vertical-align: top;\n",
       "    }\n",
       "\n",
       "    .dataframe thead th {\n",
       "        text-align: right;\n",
       "    }\n",
       "</style>\n",
       "<table border=\"1\" class=\"dataframe\">\n",
       "  <thead>\n",
       "    <tr style=\"text-align: right;\">\n",
       "      <th></th>\n",
       "      <th>LotFrontage</th>\n",
       "      <th>LotArea</th>\n",
       "      <th>OverallQual</th>\n",
       "      <th>OverallCond</th>\n",
       "      <th>YearBuilt</th>\n",
       "      <th>YearRemodAdd</th>\n",
       "      <th>MasVnrArea</th>\n",
       "      <th>ExterQual</th>\n",
       "      <th>ExterCond</th>\n",
       "      <th>BsmtQual</th>\n",
       "      <th>...</th>\n",
       "      <th>SaleCondition_Abnorml</th>\n",
       "      <th>SaleCondition_AdjLand</th>\n",
       "      <th>SaleCondition_Alloca</th>\n",
       "      <th>SaleCondition_Family</th>\n",
       "      <th>SaleCondition_Normal</th>\n",
       "      <th>SaleCondition_Partial</th>\n",
       "      <th>SeasonSold_Fall</th>\n",
       "      <th>SeasonSold_Spring</th>\n",
       "      <th>SeasonSold_Summer</th>\n",
       "      <th>SeasonSold_Winter</th>\n",
       "    </tr>\n",
       "  </thead>\n",
       "  <tbody>\n",
       "    <tr>\n",
       "      <th>0</th>\n",
       "      <td>65.0</td>\n",
       "      <td>8450</td>\n",
       "      <td>7</td>\n",
       "      <td>5</td>\n",
       "      <td>2003</td>\n",
       "      <td>2003</td>\n",
       "      <td>196.0</td>\n",
       "      <td>4</td>\n",
       "      <td>3</td>\n",
       "      <td>4.0</td>\n",
       "      <td>...</td>\n",
       "      <td>0.0</td>\n",
       "      <td>0.0</td>\n",
       "      <td>0.0</td>\n",
       "      <td>0.0</td>\n",
       "      <td>1.0</td>\n",
       "      <td>0.0</td>\n",
       "      <td>0.0</td>\n",
       "      <td>0.0</td>\n",
       "      <td>0.0</td>\n",
       "      <td>1.0</td>\n",
       "    </tr>\n",
       "    <tr>\n",
       "      <th>1</th>\n",
       "      <td>80.0</td>\n",
       "      <td>9600</td>\n",
       "      <td>6</td>\n",
       "      <td>8</td>\n",
       "      <td>1976</td>\n",
       "      <td>1976</td>\n",
       "      <td>0.0</td>\n",
       "      <td>3</td>\n",
       "      <td>3</td>\n",
       "      <td>4.0</td>\n",
       "      <td>...</td>\n",
       "      <td>0.0</td>\n",
       "      <td>0.0</td>\n",
       "      <td>0.0</td>\n",
       "      <td>0.0</td>\n",
       "      <td>1.0</td>\n",
       "      <td>0.0</td>\n",
       "      <td>0.0</td>\n",
       "      <td>1.0</td>\n",
       "      <td>0.0</td>\n",
       "      <td>0.0</td>\n",
       "    </tr>\n",
       "    <tr>\n",
       "      <th>2</th>\n",
       "      <td>68.0</td>\n",
       "      <td>11250</td>\n",
       "      <td>7</td>\n",
       "      <td>5</td>\n",
       "      <td>2001</td>\n",
       "      <td>2002</td>\n",
       "      <td>162.0</td>\n",
       "      <td>4</td>\n",
       "      <td>3</td>\n",
       "      <td>4.0</td>\n",
       "      <td>...</td>\n",
       "      <td>0.0</td>\n",
       "      <td>0.0</td>\n",
       "      <td>0.0</td>\n",
       "      <td>0.0</td>\n",
       "      <td>1.0</td>\n",
       "      <td>0.0</td>\n",
       "      <td>1.0</td>\n",
       "      <td>0.0</td>\n",
       "      <td>0.0</td>\n",
       "      <td>0.0</td>\n",
       "    </tr>\n",
       "    <tr>\n",
       "      <th>3</th>\n",
       "      <td>60.0</td>\n",
       "      <td>9550</td>\n",
       "      <td>7</td>\n",
       "      <td>5</td>\n",
       "      <td>1915</td>\n",
       "      <td>1970</td>\n",
       "      <td>0.0</td>\n",
       "      <td>3</td>\n",
       "      <td>3</td>\n",
       "      <td>3.0</td>\n",
       "      <td>...</td>\n",
       "      <td>1.0</td>\n",
       "      <td>0.0</td>\n",
       "      <td>0.0</td>\n",
       "      <td>0.0</td>\n",
       "      <td>0.0</td>\n",
       "      <td>0.0</td>\n",
       "      <td>0.0</td>\n",
       "      <td>0.0</td>\n",
       "      <td>0.0</td>\n",
       "      <td>1.0</td>\n",
       "    </tr>\n",
       "    <tr>\n",
       "      <th>4</th>\n",
       "      <td>84.0</td>\n",
       "      <td>14260</td>\n",
       "      <td>8</td>\n",
       "      <td>5</td>\n",
       "      <td>2000</td>\n",
       "      <td>2000</td>\n",
       "      <td>350.0</td>\n",
       "      <td>4</td>\n",
       "      <td>3</td>\n",
       "      <td>4.0</td>\n",
       "      <td>...</td>\n",
       "      <td>0.0</td>\n",
       "      <td>0.0</td>\n",
       "      <td>0.0</td>\n",
       "      <td>0.0</td>\n",
       "      <td>1.0</td>\n",
       "      <td>0.0</td>\n",
       "      <td>0.0</td>\n",
       "      <td>0.0</td>\n",
       "      <td>0.0</td>\n",
       "      <td>1.0</td>\n",
       "    </tr>\n",
       "  </tbody>\n",
       "</table>\n",
       "<p>5 rows × 302 columns</p>\n",
       "</div>"
      ]
     },
     "execution_count": 16,
     "metadata": {},
     "output_type": "execute_result"
    }
   ],
   "execution_count": 16
  },
  {
   "metadata": {
    "ExecuteTime": {
     "end_time": "2024-09-26T20:58:25.473577Z",
     "start_time": "2024-09-26T20:58:25.472267Z"
    }
   },
   "cell_type": "code",
   "source": "",
   "id": "697a5ab57306c858",
   "outputs": [],
   "execution_count": null
  },
  {
   "metadata": {
    "ExecuteTime": {
     "end_time": "2024-09-26T20:58:25.571210Z",
     "start_time": "2024-09-26T20:58:25.561414Z"
    }
   },
   "cell_type": "code",
   "source": "# TODO apply np.log1p for right-skewed features, see outliers section in data_processing.ipynb",
   "id": "f23cda0e9249c044",
   "outputs": [],
   "execution_count": 17
  },
  {
   "metadata": {
    "ExecuteTime": {
     "end_time": "2024-09-26T20:58:25.634689Z",
     "start_time": "2024-09-26T20:58:25.633121Z"
    }
   },
   "cell_type": "code",
   "source": "",
   "id": "ce6684b8b50d44db",
   "outputs": [],
   "execution_count": null
  },
  {
   "metadata": {
    "ExecuteTime": {
     "end_time": "2024-09-26T20:58:25.647758Z",
     "start_time": "2024-09-26T20:58:25.646119Z"
    }
   },
   "cell_type": "code",
   "source": "",
   "id": "91ded81be98e9a1",
   "outputs": [],
   "execution_count": null
  }
 ],
 "metadata": {
  "kernelspec": {
   "display_name": "Python 3",
   "language": "python",
   "name": "python3"
  },
  "language_info": {
   "codemirror_mode": {
    "name": "ipython",
    "version": 2
   },
   "file_extension": ".py",
   "mimetype": "text/x-python",
   "name": "python",
   "nbconvert_exporter": "python",
   "pygments_lexer": "ipython2",
   "version": "2.7.6"
  }
 },
 "nbformat": 4,
 "nbformat_minor": 5
}
