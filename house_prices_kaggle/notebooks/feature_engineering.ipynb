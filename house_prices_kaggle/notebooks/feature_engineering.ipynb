{
 "cells": [
  {
   "cell_type": "code",
   "execution_count": null,
   "id": "initial_id",
   "metadata": {
    "collapsed": true
   },
   "outputs": [],
   "source": [
    "%load_ext autoreload\n",
    "%autoreload 2"
   ]
  },
  {
   "metadata": {
    "ExecuteTime": {
     "end_time": "2024-09-24T20:46:01.761530Z",
     "start_time": "2024-09-24T20:46:01.755190Z"
    }
   },
   "cell_type": "code",
   "source": "import pandas as pd",
   "id": "3915d4b550adee32",
   "outputs": [],
   "execution_count": 46
  },
  {
   "metadata": {
    "ExecuteTime": {
     "end_time": "2024-09-24T20:46:19.664282Z",
     "start_time": "2024-09-24T20:46:19.649075Z"
    }
   },
   "cell_type": "code",
   "source": [
    "df = pd.read_csv('../../data/clean_data/train_df_preprocessed.csv')\n",
    "df.head()"
   ],
   "id": "8630979f753d8966",
   "outputs": [
    {
     "data": {
      "text/plain": [
       "   Id  MSSubClass MSZoning  LotFrontage  LotArea Street     Alley LotShape  \\\n",
       "0   1          60       RL         65.0     8450   Pave  No Alley      Reg   \n",
       "1   2          20       RL         80.0     9600   Pave  No Alley      Reg   \n",
       "2   3          60       RL         68.0    11250   Pave  No Alley      IR1   \n",
       "3   4          70       RL         60.0     9550   Pave  No Alley      IR1   \n",
       "4   5          60       RL         84.0    14260   Pave  No Alley      IR1   \n",
       "\n",
       "  LandContour Utilities  ... PoolArea   PoolQC     Fence MiscFeature MiscVal  \\\n",
       "0         Lvl    AllPub  ...        0  No Pool  No Fence  No feature       0   \n",
       "1         Lvl    AllPub  ...        0  No Pool  No Fence  No feature       0   \n",
       "2         Lvl    AllPub  ...        0  No Pool  No Fence  No feature       0   \n",
       "3         Lvl    AllPub  ...        0  No Pool  No Fence  No feature       0   \n",
       "4         Lvl    AllPub  ...        0  No Pool  No Fence  No feature       0   \n",
       "\n",
       "  MoSold YrSold  SaleType  SaleCondition  SalePrice  \n",
       "0      2   2008        WD         Normal     208500  \n",
       "1      5   2007        WD         Normal     181500  \n",
       "2      9   2008        WD         Normal     223500  \n",
       "3      2   2006        WD        Abnorml     140000  \n",
       "4     12   2008        WD         Normal     250000  \n",
       "\n",
       "[5 rows x 81 columns]"
      ],
      "text/html": [
       "<div>\n",
       "<style scoped>\n",
       "    .dataframe tbody tr th:only-of-type {\n",
       "        vertical-align: middle;\n",
       "    }\n",
       "\n",
       "    .dataframe tbody tr th {\n",
       "        vertical-align: top;\n",
       "    }\n",
       "\n",
       "    .dataframe thead th {\n",
       "        text-align: right;\n",
       "    }\n",
       "</style>\n",
       "<table border=\"1\" class=\"dataframe\">\n",
       "  <thead>\n",
       "    <tr style=\"text-align: right;\">\n",
       "      <th></th>\n",
       "      <th>Id</th>\n",
       "      <th>MSSubClass</th>\n",
       "      <th>MSZoning</th>\n",
       "      <th>LotFrontage</th>\n",
       "      <th>LotArea</th>\n",
       "      <th>Street</th>\n",
       "      <th>Alley</th>\n",
       "      <th>LotShape</th>\n",
       "      <th>LandContour</th>\n",
       "      <th>Utilities</th>\n",
       "      <th>...</th>\n",
       "      <th>PoolArea</th>\n",
       "      <th>PoolQC</th>\n",
       "      <th>Fence</th>\n",
       "      <th>MiscFeature</th>\n",
       "      <th>MiscVal</th>\n",
       "      <th>MoSold</th>\n",
       "      <th>YrSold</th>\n",
       "      <th>SaleType</th>\n",
       "      <th>SaleCondition</th>\n",
       "      <th>SalePrice</th>\n",
       "    </tr>\n",
       "  </thead>\n",
       "  <tbody>\n",
       "    <tr>\n",
       "      <th>0</th>\n",
       "      <td>1</td>\n",
       "      <td>60</td>\n",
       "      <td>RL</td>\n",
       "      <td>65.0</td>\n",
       "      <td>8450</td>\n",
       "      <td>Pave</td>\n",
       "      <td>No Alley</td>\n",
       "      <td>Reg</td>\n",
       "      <td>Lvl</td>\n",
       "      <td>AllPub</td>\n",
       "      <td>...</td>\n",
       "      <td>0</td>\n",
       "      <td>No Pool</td>\n",
       "      <td>No Fence</td>\n",
       "      <td>No feature</td>\n",
       "      <td>0</td>\n",
       "      <td>2</td>\n",
       "      <td>2008</td>\n",
       "      <td>WD</td>\n",
       "      <td>Normal</td>\n",
       "      <td>208500</td>\n",
       "    </tr>\n",
       "    <tr>\n",
       "      <th>1</th>\n",
       "      <td>2</td>\n",
       "      <td>20</td>\n",
       "      <td>RL</td>\n",
       "      <td>80.0</td>\n",
       "      <td>9600</td>\n",
       "      <td>Pave</td>\n",
       "      <td>No Alley</td>\n",
       "      <td>Reg</td>\n",
       "      <td>Lvl</td>\n",
       "      <td>AllPub</td>\n",
       "      <td>...</td>\n",
       "      <td>0</td>\n",
       "      <td>No Pool</td>\n",
       "      <td>No Fence</td>\n",
       "      <td>No feature</td>\n",
       "      <td>0</td>\n",
       "      <td>5</td>\n",
       "      <td>2007</td>\n",
       "      <td>WD</td>\n",
       "      <td>Normal</td>\n",
       "      <td>181500</td>\n",
       "    </tr>\n",
       "    <tr>\n",
       "      <th>2</th>\n",
       "      <td>3</td>\n",
       "      <td>60</td>\n",
       "      <td>RL</td>\n",
       "      <td>68.0</td>\n",
       "      <td>11250</td>\n",
       "      <td>Pave</td>\n",
       "      <td>No Alley</td>\n",
       "      <td>IR1</td>\n",
       "      <td>Lvl</td>\n",
       "      <td>AllPub</td>\n",
       "      <td>...</td>\n",
       "      <td>0</td>\n",
       "      <td>No Pool</td>\n",
       "      <td>No Fence</td>\n",
       "      <td>No feature</td>\n",
       "      <td>0</td>\n",
       "      <td>9</td>\n",
       "      <td>2008</td>\n",
       "      <td>WD</td>\n",
       "      <td>Normal</td>\n",
       "      <td>223500</td>\n",
       "    </tr>\n",
       "    <tr>\n",
       "      <th>3</th>\n",
       "      <td>4</td>\n",
       "      <td>70</td>\n",
       "      <td>RL</td>\n",
       "      <td>60.0</td>\n",
       "      <td>9550</td>\n",
       "      <td>Pave</td>\n",
       "      <td>No Alley</td>\n",
       "      <td>IR1</td>\n",
       "      <td>Lvl</td>\n",
       "      <td>AllPub</td>\n",
       "      <td>...</td>\n",
       "      <td>0</td>\n",
       "      <td>No Pool</td>\n",
       "      <td>No Fence</td>\n",
       "      <td>No feature</td>\n",
       "      <td>0</td>\n",
       "      <td>2</td>\n",
       "      <td>2006</td>\n",
       "      <td>WD</td>\n",
       "      <td>Abnorml</td>\n",
       "      <td>140000</td>\n",
       "    </tr>\n",
       "    <tr>\n",
       "      <th>4</th>\n",
       "      <td>5</td>\n",
       "      <td>60</td>\n",
       "      <td>RL</td>\n",
       "      <td>84.0</td>\n",
       "      <td>14260</td>\n",
       "      <td>Pave</td>\n",
       "      <td>No Alley</td>\n",
       "      <td>IR1</td>\n",
       "      <td>Lvl</td>\n",
       "      <td>AllPub</td>\n",
       "      <td>...</td>\n",
       "      <td>0</td>\n",
       "      <td>No Pool</td>\n",
       "      <td>No Fence</td>\n",
       "      <td>No feature</td>\n",
       "      <td>0</td>\n",
       "      <td>12</td>\n",
       "      <td>2008</td>\n",
       "      <td>WD</td>\n",
       "      <td>Normal</td>\n",
       "      <td>250000</td>\n",
       "    </tr>\n",
       "  </tbody>\n",
       "</table>\n",
       "<p>5 rows × 81 columns</p>\n",
       "</div>"
      ]
     },
     "execution_count": 48,
     "metadata": {},
     "output_type": "execute_result"
    }
   ],
   "execution_count": 48
  },
  {
   "metadata": {},
   "cell_type": "markdown",
   "source": "*New Features Creation*",
   "id": "9b9864c9443a8972"
  },
  {
   "metadata": {},
   "cell_type": "markdown",
   "source": "* Age/Date Features",
   "id": "4443c2ee92d6be"
  },
  {
   "metadata": {
    "ExecuteTime": {
     "end_time": "2024-09-24T20:46:23.159915Z",
     "start_time": "2024-09-24T20:46:23.141164Z"
    }
   },
   "cell_type": "code",
   "source": [
    "df['HouseAge'] = df['YrSold'] - df['YearBuilt']\n",
    "df['YearsSinceRemodel'] = df['YrSold'] - df['YearRemodAdd']\n",
    "df['WasRemodeled'] = df.apply(lambda row: 1 if row['YearRemodAdd'] > row['YearBuilt'] else 0, axis=1)\n",
    "df['GarageAge'] = df['YrSold'] - df['GarageYrBlt']\n",
    "df['HouseAgeCategory'] = pd.cut(df['HouseAge'], bins=[0, 10, 20, 50, 100, 200], labels=['New', 'Recent', 'Modern', 'Old', 'Very Old'])\n",
    "df['SeasonSold'] = df['MoSold'].apply(lambda x: 'Spring' if x in [3, 4, 5] else 'Summer' if x in [6, 7, 8] else 'Fall' if x in [9, 10, 11] else 'Winter')"
   ],
   "id": "a74c3c2c4a8ea02e",
   "outputs": [],
   "execution_count": 49
  },
  {
   "metadata": {},
   "cell_type": "markdown",
   "source": "* Quality and Condition Features",
   "id": "95817b5d137ccca6"
  },
  {
   "metadata": {
    "ExecuteTime": {
     "end_time": "2024-09-24T20:46:25.373412Z",
     "start_time": "2024-09-24T20:46:25.368851Z"
    }
   },
   "cell_type": "code",
   "source": [
    "df['QualCondMult'] = df['OverallQual'] * df['OverallCond']\n",
    "df['QualCondRatio'] = df['OverallQual'] / df['OverallCond']"
   ],
   "id": "a015cf177004f41c",
   "outputs": [],
   "execution_count": 50
  },
  {
   "metadata": {
    "ExecuteTime": {
     "end_time": "2024-09-24T20:46:33.671944Z",
     "start_time": "2024-09-24T20:46:33.661135Z"
    }
   },
   "cell_type": "code",
   "source": [
    "# Create new numerical features for quality and condition\n",
    "qc_mapping = {\n",
    "    'Ex': 5,\n",
    "    'Gd': 4,\n",
    "    'TA': 3,\n",
    "    'Fa': 2,\n",
    "    'Po': 1\n",
    "}\n",
    "\n",
    "qc_features = ['ExterQual', 'ExterCond', 'BsmtQual', 'BsmtCond', 'HeatingQC', 'KitchenQual', 'GarageQual', 'GarageCond', 'PoolQC', 'FireplaceQu']\n",
    "for feature in qc_features:\n",
    "    df[feature] = df[feature].map(qc_mapping).fillna(0)"
   ],
   "id": "97632bcc10d0c4c9",
   "outputs": [],
   "execution_count": 51
  },
  {
   "metadata": {
    "ExecuteTime": {
     "end_time": "2024-09-24T20:46:34.712469Z",
     "start_time": "2024-09-24T20:46:34.707015Z"
    }
   },
   "cell_type": "code",
   "source": [
    "df['OverallQualScore'] = (\n",
    "    df['ExterQual'] + \n",
    "    df['ExterCond'] +\n",
    "    df['BsmtQual'] +\n",
    "    df['BsmtCond'] +\n",
    "    df['HeatingQC'] +\n",
    "    df['KitchenQual'] +\n",
    "    df['GarageQual'] +\n",
    "    df['GarageCond'] +\n",
    "    df['PoolQC'] +\n",
    "    df['FireplaceQu']\n",
    ")"
   ],
   "id": "1f7c4a634c9bb8d1",
   "outputs": [],
   "execution_count": 52
  },
  {
   "metadata": {},
   "cell_type": "markdown",
   "source": "* Has {...} Features",
   "id": "8f63f95f13c9f4f1"
  },
  {
   "metadata": {
    "ExecuteTime": {
     "end_time": "2024-09-24T20:49:23.240833Z",
     "start_time": "2024-09-24T20:49:23.227470Z"
    }
   },
   "cell_type": "code",
   "source": [
    "df['HasAlley'] = df['Alley'].apply(lambda x: 0 if x == 'No Alley' else 1)\n",
    "df['HasMasVnr'] = df['MasVnrType'].apply(lambda x: 0 if x == 'No masonry veneer' else 1)\n",
    "df['HasBsmt'] = df['BsmtQual'].apply(lambda x: 0 if x == 0 else 1)\n",
    "df['HasFireplace'] = df['FireplaceQu'].apply(lambda x: 0 if x == 0 else 1)\n",
    "df['HasGarage'] = df['GarageQual'].apply(lambda x: 0 if x == 0 else 1)\n",
    "df['HasPool'] = df['PoolQC'].apply(lambda x: 0 if x == 0 else 1)\n",
    "df['HasFence'] =df['Fence'].apply(lambda x: 0 if x == 'No Fence' else 1)\n",
    "df['HasPorch'] = df[['OpenPorchSF', 'EnclosedPorch', '3SsnPorch', 'ScreenPorch']].sum(axis=1).apply(lambda x: 1 if x > 0 else 0)"
   ],
   "id": "d54075359e32f1b4",
   "outputs": [],
   "execution_count": 58
  },
  {
   "metadata": {},
   "cell_type": "markdown",
   "source": "* Footage/Area Features",
   "id": "f73b548697501c38"
  },
  {
   "metadata": {
    "ExecuteTime": {
     "end_time": "2024-09-24T20:55:09.695615Z",
     "start_time": "2024-09-24T20:55:09.682199Z"
    }
   },
   "cell_type": "code",
   "source": [
    "df['TotalSF'] = df['TotalBsmtSF'] + df['1stFlrSF'] + df['2ndFlrSF']\n",
    "df['TotalPorchSF'] = df['OpenPorchSF'] + df['EnclosedPorch'] + df['3SsnPorch'] + df['ScreenPorch']\n",
    "df['TotalBsmtFinSF'] = df['BsmtFinSF1'] + df['BsmtFinSF2']\n",
    "df['HouseToLotRatio'] = df['GrLivArea'] / df['LotArea']"
   ],
   "id": "2eb06dafd52c25f2",
   "outputs": [],
   "execution_count": 59
  },
  {
   "metadata": {},
   "cell_type": "markdown",
   "source": "* Neighbourhood Related Features",
   "id": "48cf77118604b0eb"
  },
  {
   "metadata": {
    "ExecuteTime": {
     "end_time": "2024-09-24T20:59:29.043375Z",
     "start_time": "2024-09-24T20:59:29.030346Z"
    }
   },
   "cell_type": "code",
   "source": [
    "rich_neighborhoods = df.groupby('Neighborhood')['SalePrice'].mean().nlargest(10).index\n",
    "df['IsRichNeighborhood'] = df['Neighborhood'].apply(lambda x: 1 if x in rich_neighborhoods else 0)"
   ],
   "id": "23169bb6e85a723e",
   "outputs": [],
   "execution_count": 60
  },
  {
   "metadata": {},
   "cell_type": "markdown",
   "source": "*Feature transformation*",
   "id": "43094327c5884bc8"
  },
  {
   "metadata": {},
   "cell_type": "code",
   "outputs": [],
   "execution_count": null,
   "source": "# TODO apply np.log1p for right-skewed features, see outliers section in data_processing.ipynb",
   "id": "f23cda0e9249c044"
  },
  {
   "metadata": {},
   "cell_type": "code",
   "outputs": [],
   "execution_count": null,
   "source": "",
   "id": "ce6684b8b50d44db"
  },
  {
   "metadata": {},
   "cell_type": "code",
   "outputs": [],
   "execution_count": null,
   "source": "",
   "id": "91ded81be98e9a1"
  }
 ],
 "metadata": {
  "kernelspec": {
   "display_name": "Python 3",
   "language": "python",
   "name": "python3"
  },
  "language_info": {
   "codemirror_mode": {
    "name": "ipython",
    "version": 2
   },
   "file_extension": ".py",
   "mimetype": "text/x-python",
   "name": "python",
   "nbconvert_exporter": "python",
   "pygments_lexer": "ipython2",
   "version": "2.7.6"
  }
 },
 "nbformat": 4,
 "nbformat_minor": 5
}
